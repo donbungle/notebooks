{
 "cells": [
  {
   "cell_type": "code",
   "execution_count": null,
   "id": "debf5003-e730-438c-bf35-c40275cdb5cc",
   "metadata": {},
   "outputs": [],
   "source": [
    "import requests\n",
    "from bs4 import BeautifulSoup\n",
    "import pandas as pd\n",
    "import numpy as np"
   ]
  },
  {
   "cell_type": "code",
   "execution_count": null,
   "id": "800cd861-d85e-4758-91f8-b49ac0b416bc",
   "metadata": {},
   "outputs": [],
   "source": [
    "i = 1\n",
    "titles = []\n",
    "years = []\n",
    "votes = []\n",
    "indices = []\n",
    "while True:\n",
    "    URL = 'https://ww1.cuevana3.me/peliculas/page/{0}'.format(i)\n",
    "    page = requests.get(URL)\n",
    "    status = page.status_code\n",
    "    print('{2} {1} and {0}'.format(i, status, URL))\n",
    "    if status != 200:\n",
    "        break\n",
    "    \n",
    "    soup = BeautifulSoup(page.content, \"html.parser\")\n",
    "    results = soup.find(id=\"aa-wp\")\n",
    "    lista = results.find_all(\"li\", class_=\"xxx\")    \n",
    "    print('Largo lista: {0}'.format(len(lista)))\n",
    "    if len(lista) <= 0:\n",
    "        break\n",
    "    for elemento in lista:\n",
    "        title_element = elemento.find(\"h2\", class_=\"Title\")\n",
    "        year_element = elemento.find(\"span\", class_=\"Year\")\n",
    "        vote_element = elemento.find(\"span\", class_=\"Vote AAIco-star\")\n",
    "        #print(title_element.text)\n",
    "        indices.append(i)\n",
    "        titles.append(title_element.text)\n",
    "        years.append(year_element.text)\n",
    "        votes.append(vote_element.text)\n",
    "    \n",
    "    i += 1"
   ]
  },
  {
   "cell_type": "code",
   "execution_count": null,
   "id": "12d412ff-8c33-4f8f-ac5c-50004e676eff",
   "metadata": {},
   "outputs": [],
   "source": [
    "data = {\n",
    "    \"id\": indices,\n",
    "    \"title\": titles,\n",
    "    \"year\": years,\n",
    "    \"vote\": votes,\n",
    "}"
   ]
  },
  {
   "cell_type": "code",
   "execution_count": null,
   "id": "1b25dc1c-ec37-46de-a474-16bf86aa9583",
   "metadata": {},
   "outputs": [],
   "source": [
    "df_peliculas = pd.DataFrame(data)"
   ]
  },
  {
   "cell_type": "code",
   "execution_count": null,
   "id": "d06561e6-2a0d-4104-9a3a-b7ff29a2b340",
   "metadata": {},
   "outputs": [],
   "source": [
    "print(df_peliculas.sort_values(by=['vote'], ascending=False))"
   ]
  },
  {
   "cell_type": "code",
   "execution_count": null,
   "id": "010e0309-a7ca-4b2b-896e-dda0fdb61338",
   "metadata": {},
   "outputs": [],
   "source": [
    "df_peliculas['vote'] = df_peliculas['vote'].astype(float)"
   ]
  },
  {
   "cell_type": "code",
   "execution_count": null,
   "id": "3111efc6-508c-4119-8aaa-7c699611c4db",
   "metadata": {},
   "outputs": [],
   "source": [
    "mejores_peliculas = df_peliculas.loc[df_peliculas['vote'] > 4.5]\n",
    "#num_df.loc[num_df['a'] == 2]"
   ]
  },
  {
   "cell_type": "code",
   "execution_count": null,
   "id": "91e15844-122a-4c4e-b410-89ab5c87b90f",
   "metadata": {},
   "outputs": [],
   "source": [
    "mejores_peliculas = mejores_peliculas.sort_values(by=['vote'], ascending=False)"
   ]
  },
  {
   "cell_type": "code",
   "execution_count": null,
   "id": "9b68499b-2f78-4d0a-9464-e27c2fe14a77",
   "metadata": {},
   "outputs": [],
   "source": [
    "from pathlib import Path  \n",
    "filepath = Path('../../data/peliculas.csv')  \n",
    "filepath.parent.mkdir(parents=True, exist_ok=True)  \n",
    "df_peliculas.to_csv(filepath)  "
   ]
  }
 ],
 "metadata": {
  "kernelspec": {
   "display_name": "Python 3 (ipykernel)",
   "language": "python",
   "name": "python3"
  },
  "language_info": {
   "codemirror_mode": {
    "name": "ipython",
    "version": 3
   },
   "file_extension": ".py",
   "mimetype": "text/x-python",
   "name": "python",
   "nbconvert_exporter": "python",
   "pygments_lexer": "ipython3",
   "version": "3.9.5"
  }
 },
 "nbformat": 4,
 "nbformat_minor": 5
}
