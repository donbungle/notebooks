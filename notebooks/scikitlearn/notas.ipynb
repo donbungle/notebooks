{
 "cells": [
  {
   "cell_type": "markdown",
   "id": "b8881761-48d2-4ea2-ab67-6a4dd34f1612",
   "metadata": {},
   "source": [
    "# Notas"
   ]
  },
  {
   "cell_type": "markdown",
   "id": "c06353ed-255b-4cfd-9bdf-912b179b879e",
   "metadata": {},
   "source": [
    "Simple Linear Regression\n",
    ": models the relationship between\n",
    "a response variable and single explanatory variable."
   ]
  },
  {
   "cell_type": "markdown",
   "id": "ab03bbc1-5a8e-484c-a112-792d35bca77f",
   "metadata": {},
   "source": [
    "term\n",
    ": definition"
   ]
  },
  {
   "cell_type": "markdown",
   "id": "c8df0fad-1cc6-4148-9930-aeff533664a8",
   "metadata": {},
   "source": [
    "term\n",
    ": definition"
   ]
  },
  {
   "cell_type": "markdown",
   "id": "fcb003d1-37ef-4e8d-9384-06abdb14fec8",
   "metadata": {},
   "source": [
    "### My Great Heading {#custom-id}"
   ]
  },
  {
   "cell_type": "markdown",
   "id": "b41ad854-4f46-430d-b0fb-60a4aa7b458e",
   "metadata": {},
   "source": [
    "Here's a sentence with a footnote. [^1]\n",
    "\n",
    "[^1]: This is the footnote."
   ]
  },
  {
   "cell_type": "markdown",
   "id": "6a7d8a2b-a0ff-40b5-b0c0-38cb990ff7d1",
   "metadata": {},
   "source": [
    "H~2~O"
   ]
  },
  {
   "cell_type": "markdown",
   "id": "6dfd3eed-2946-4c4e-be0b-0547d677ffea",
   "metadata": {},
   "source": [
    "X^2^"
   ]
  },
  {
   "cell_type": "markdown",
   "id": "3bee92e6-fb7e-4f8e-b0b1-73b223cb0573",
   "metadata": {},
   "source": [
    "~~The world is flat.~~\n"
   ]
  }
 ],
 "metadata": {
  "kernelspec": {
   "display_name": "Python 3 (ipykernel)",
   "language": "python",
   "name": "python3"
  },
  "language_info": {
   "codemirror_mode": {
    "name": "ipython",
    "version": 3
   },
   "file_extension": ".py",
   "mimetype": "text/x-python",
   "name": "python",
   "nbconvert_exporter": "python",
   "pygments_lexer": "ipython3",
   "version": "3.9.5"
  }
 },
 "nbformat": 4,
 "nbformat_minor": 5
}
